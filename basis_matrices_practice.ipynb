{
 "cells": [
  {
   "cell_type": "code",
   "execution_count": 1,
   "metadata": {
    "collapsed": false
   },
   "outputs": [
    {
     "data": {
      "text/plain": [
       "2 dimensional Basis on the hypercube formed by (-2.0, -1.0) × (2.0, 3.0).\n",
       "Basis families are Lin × Lin\n"
      ]
     },
     "execution_count": 1,
     "metadata": {},
     "output_type": "execute_result"
    }
   ],
   "source": [
    "using BasisMatrices\n",
    "\n",
    "# construct 2d basis\n",
    "basis = Basis(LinParams(15, -2, 2), LinParams(10, -1, 3))"
   ]
  },
  {
   "cell_type": "code",
   "execution_count": 2,
   "metadata": {
    "collapsed": false
   },
   "outputs": [
    {
     "data": {
      "text/plain": [
       "1 dimensional Basis on the hypercube formed by (-2.0,) × (2.0,).\n",
       "Basis families are Lin\n"
      ]
     },
     "execution_count": 2,
     "metadata": {},
     "output_type": "execute_result"
    }
   ],
   "source": [
    "b = Basis(LinParams(15, -2, 2))"
   ]
  },
  {
   "cell_type": "code",
   "execution_count": 4,
   "metadata": {
    "collapsed": false
   },
   "outputs": [
    {
     "data": {
      "text/plain": [
       "(-2.0:0.2857142857142857:2.0, StepRangeLen{Float64,Base.TwicePrecision{Float64},Base.TwicePrecision{Float64}}[-2.0:0.2857142857142857:2.0])"
      ]
     },
     "execution_count": 4,
     "metadata": {},
     "output_type": "execute_result"
    }
   ],
   "source": [
    "S, x = nodes(b)"
   ]
  },
  {
   "cell_type": "code",
   "execution_count": null,
   "metadata": {
    "collapsed": true
   },
   "outputs": [],
   "source": []
  },
  {
   "cell_type": "code",
   "execution_count": 8,
   "metadata": {
    "collapsed": false
   },
   "outputs": [
    {
     "ename": "LoadError",
     "evalue": "\u001b[91mUndefVarError: _funeval not defined\u001b[39m",
     "output_type": "error",
     "traceback": [
      "\u001b[91mUndefVarError: _funeval not defined\u001b[39m",
      ""
     ]
    }
   ],
   "source": [
    "funeval(S, b, order = 1)"
   ]
  },
  {
   "cell_type": "code",
   "execution_count": 24,
   "metadata": {
    "collapsed": false
   },
   "outputs": [
    {
     "data": {
      "text/plain": [
       "([-2.0 -1.0; -1.71429 -1.0; … ; 1.71429 3.0; 2.0 3.0], (-2.0:0.2857142857142857:2.0, -1.0:0.4444444444444444:3.0))"
      ]
     },
     "execution_count": 24,
     "metadata": {},
     "output_type": "execute_result"
    }
   ],
   "source": [
    "S, (x, y) = nodes(basis)"
   ]
  },
  {
   "cell_type": "code",
   "execution_count": 26,
   "metadata": {
    "collapsed": false
   },
   "outputs": [
    {
     "data": {
      "text/plain": [
       "func (generic function with 1 method)"
      ]
     },
     "execution_count": 26,
     "metadata": {},
     "output_type": "execute_result"
    }
   ],
   "source": [
    "# define function to approximate\n",
    "func(x, y) = exp(-2*x) * sin(y)"
   ]
  },
  {
   "cell_type": "code",
   "execution_count": 28,
   "metadata": {
    "collapsed": false
   },
   "outputs": [],
   "source": [
    "f = func.(S[:, 1], S[:, 2]);"
   ]
  },
  {
   "cell_type": "code",
   "execution_count": 29,
   "metadata": {
    "collapsed": false
   },
   "outputs": [
    {
     "data": {
      "text/plain": [
       "BasisMatrix{BasisMatrices.Tensor} of order [0 0]"
      ]
     },
     "execution_count": 29,
     "metadata": {},
     "output_type": "execute_result"
    }
   ],
   "source": [
    "# Tensor form\n",
    "bmt = BasisMatrix(basis, Tensor(), [x, y])"
   ]
  },
  {
   "cell_type": "code",
   "execution_count": 30,
   "metadata": {
    "collapsed": true
   },
   "outputs": [],
   "source": [
    "@assert bmt.vals[1] == evalbase(basis.params[1], x, 0)"
   ]
  },
  {
   "cell_type": "code",
   "execution_count": 31,
   "metadata": {
    "collapsed": false
   },
   "outputs": [
    {
     "data": {
      "text/plain": [
       "15×15 SparseMatrixCSC{Float64,Int64} with 30 stored entries:\n",
       "  [1 ,  1]  =  1.0\n",
       "  [1 ,  2]  =  0.0\n",
       "  [2 ,  2]  =  1.0\n",
       "  [2 ,  3]  =  0.0\n",
       "  [3 ,  3]  =  1.0\n",
       "  [3 ,  4]  =  0.0\n",
       "  [4 ,  4]  =  1.0\n",
       "  [4 ,  5]  =  0.0\n",
       "  [5 ,  5]  =  1.0\n",
       "  [5 ,  6]  =  0.0\n",
       "  ⋮\n",
       "  [10, 11]  =  0.0\n",
       "  [11, 11]  =  1.0\n",
       "  [11, 12]  =  0.0\n",
       "  [12, 12]  =  1.0\n",
       "  [12, 13]  =  0.0\n",
       "  [13, 13]  =  1.0\n",
       "  [13, 14]  =  0.0\n",
       "  [14, 14]  =  1.0\n",
       "  [15, 14]  =  0.0\n",
       "  [14, 15]  =  0.0\n",
       "  [15, 15]  =  1.0"
      ]
     },
     "execution_count": 31,
     "metadata": {},
     "output_type": "execute_result"
    }
   ],
   "source": [
    "evalbase(basis.params[1], x, 0)"
   ]
  },
  {
   "cell_type": "code",
   "execution_count": 32,
   "metadata": {
    "collapsed": false
   },
   "outputs": [
    {
     "data": {
      "text/plain": [
       "150-element Array{Float64,1}:\n",
       " -45.9428    \n",
       " -25.9447    \n",
       " -14.6514    \n",
       "  -8.27394   \n",
       "  -4.67244   \n",
       "  -2.63861   \n",
       "  -1.49007   \n",
       "  -0.841471  \n",
       "  -0.475194  \n",
       "  -0.268351  \n",
       "  -0.151542  \n",
       "  -0.0855788 \n",
       "  -0.0483279 \n",
       "   ⋮         \n",
       "   1.38759   \n",
       "   0.783598  \n",
       "   0.442512  \n",
       "   0.249895  \n",
       "   0.14112   \n",
       "   0.079693  \n",
       "   0.0450041 \n",
       "   0.0254146 \n",
       "   0.0143521 \n",
       "   0.00810489\n",
       "   0.00457698\n",
       "   0.0025847 "
      ]
     },
     "execution_count": 32,
     "metadata": {},
     "output_type": "execute_result"
    }
   ],
   "source": [
    "c1 = kron(bmt.vals[2], bmt.vals[1]) \\ f"
   ]
  },
  {
   "cell_type": "code",
   "execution_count": 33,
   "metadata": {
    "collapsed": false
   },
   "outputs": [
    {
     "data": {
      "text/plain": [
       "BasisMatrix{BasisMatrices.Expanded} of order [0 0]"
      ]
     },
     "execution_count": 33,
     "metadata": {},
     "output_type": "execute_result"
    }
   ],
   "source": [
    "bme = BasisMatrix(basis, Expanded(), S)"
   ]
  },
  {
   "cell_type": "code",
   "execution_count": 37,
   "metadata": {
    "collapsed": false
   },
   "outputs": [
    {
     "data": {
      "text/plain": [
       "150-element Array{Float64,1}:\n",
       " -45.9428    \n",
       " -25.9447    \n",
       " -14.6514    \n",
       "  -8.27394   \n",
       "  -4.67244   \n",
       "  -2.63861   \n",
       "  -1.49007   \n",
       "  -0.841471  \n",
       "  -0.475194  \n",
       "  -0.268351  \n",
       "  -0.151542  \n",
       "  -0.0855788 \n",
       "  -0.0483279 \n",
       "   ⋮         \n",
       "   1.38759   \n",
       "   0.783598  \n",
       "   0.442512  \n",
       "   0.249895  \n",
       "   0.14112   \n",
       "   0.079693  \n",
       "   0.0450041 \n",
       "   0.0254146 \n",
       "   0.0143521 \n",
       "   0.00810489\n",
       "   0.00457698\n",
       "   0.0025847 "
      ]
     },
     "execution_count": 37,
     "metadata": {},
     "output_type": "execute_result"
    }
   ],
   "source": [
    "bme.vals[1]\\f"
   ]
  },
  {
   "cell_type": "code",
   "execution_count": 14,
   "metadata": {
    "collapsed": false
   },
   "outputs": [
    {
     "ename": "LoadError",
     "evalue": "\u001b[91mBase.LinAlg.SingularException(0)\u001b[39m",
     "output_type": "error",
     "traceback": [
      "\u001b[91mBase.LinAlg.SingularException(0)\u001b[39m",
      "",
      "Stacktrace:",
      " [1] \u001b[1mumferror\u001b[22m\u001b[22m\u001b[1m(\u001b[22m\u001b[22m::Int64\u001b[1m)\u001b[22m\u001b[22m at \u001b[1m./sparse/umfpack.jl:22\u001b[22m\u001b[22m",
      " [2] \u001b[1msolve!\u001b[22m\u001b[22m\u001b[1m(\u001b[22m\u001b[22m::Array{Float64,1}, ::Base.SparseArrays.UMFPACK.UmfpackLU{Float64,Int64}, ::Array{Float64,1}, ::Int64\u001b[1m)\u001b[22m\u001b[22m at \u001b[1m./sparse/umfpack.jl:259\u001b[22m\u001b[22m",
      " [3] \u001b[1m_Aq_ldiv_B!\u001b[22m\u001b[22m\u001b[1m(\u001b[22m\u001b[22m::Array{Float64,1}, ::Base.SparseArrays.UMFPACK.UmfpackLU{Float64,Int64}, ::Array{Float64,1}, ::Int64\u001b[1m)\u001b[22m\u001b[22m at \u001b[1m./sparse/umfpack.jl:409\u001b[22m\u001b[22m",
      " [4] \u001b[1m\\\u001b[22m\u001b[22m\u001b[1m(\u001b[22m\u001b[22m::SparseMatrixCSC{Float64,Int64}, ::Array{Float64,1}\u001b[1m)\u001b[22m\u001b[22m at \u001b[1m./sparse/linalg.jl:871\u001b[22m\u001b[22m"
     ]
    }
   ],
   "source": [
    "ygrid0 = linspace(-4, 4, 10)\n",
    "agrid0 = linspace(0.0.^0.4, 100.0.^0.4, 25).^(1/0.4)\n",
    "using BasisMatrices\n",
    "# 1st method -- combining Basis objects\n",
    "y_basis = Basis(ChebParams(length(ygrid0), minimum(ygrid0), maximum(ygrid0)))\n",
    "a_basis = Basis(SplineParams(agrid0, 0, 3))\n",
    "basis = Basis(a_basis, y_basis)\n",
    "S, (agrid, ygrid) = nodes(basis);\n",
    "Φ = BasisMatrix(basis, Expanded(), S, 1)\n",
    "\n",
    "# Actual function at interpolation nodes\n",
    "f(a::Vector{Float64}, y::Vector{Float64}) = sqrt.(a) .* exp.(y)\n",
    "y = f(S[:,1], S[:, 2])\n",
    "\n",
    "# Get coefficients\n",
    "c = Φ.vals[1] \\ y;\n",
    "\n",
    "\n",
    "using QuantEcon\n",
    "\n",
    "ygridf = linspace(-4, 4, 100)\n",
    "agridf = linspace(0.0, 100.0, 250)\n",
    "Sf = gridmake(agridf, ygridf)\n",
    "yf = f(Sf[:, 1], Sf[:, 2])"
   ]
  },
  {
   "cell_type": "code",
   "execution_count": 15,
   "metadata": {
    "collapsed": false
   },
   "outputs": [
    {
     "data": {
      "text/plain": [
       "BasisMatrix{BasisMatrices.Expanded} of order [1 1]"
      ]
     },
     "execution_count": 15,
     "metadata": {},
     "output_type": "execute_result"
    }
   ],
   "source": [
    "ygrid0 = linspace(-4, 4, 10)\n",
    "agrid0 = linspace(0.0.^0.4, 100.0.^0.4, 25).^(1/0.4)\n",
    "using BasisMatrices\n",
    "# 1st method -- combining Basis objects\n",
    "y_basis = Basis(ChebParams(length(ygrid0), minimum(ygrid0), maximum(ygrid0)))\n",
    "a_basis = Basis(SplineParams(agrid0, 0, 3))\n",
    "basis = Basis(a_basis, y_basis)\n",
    "S, (agrid, ygrid) = nodes(basis);\n",
    "\n",
    "# ここの一番最後のやつがbasisの微分での矜持をしてくれるやつ。これを使えばいい。\n",
    "Φ = BasisMatrix(basis, Expanded(), S, 1)"
   ]
  },
  {
   "cell_type": "code",
   "execution_count": 6,
   "metadata": {
    "collapsed": false
   },
   "outputs": [
    {
     "data": {
      "text/plain": [
       "1 dimensional Basis on the hypercube formed by (0.0,) × (100.00000000000003,).\n",
       "Basis families are Spline\n"
      ]
     },
     "execution_count": 6,
     "metadata": {},
     "output_type": "execute_result"
    }
   ],
   "source": [
    "agrid0 = linspace(0.0.^0.4, 100.0.^0.4, 25).^(1/0.4)\n",
    "a_basis = Basis(SplineParams(agrid0, 0,3))"
   ]
  },
  {
   "cell_type": "code",
   "execution_count": null,
   "metadata": {
    "collapsed": true
   },
   "outputs": [],
   "source": []
  }
 ],
 "metadata": {
  "kernelspec": {
   "display_name": "Julia 0.6.0",
   "language": "julia",
   "name": "julia-0.6"
  },
  "language_info": {
   "file_extension": ".jl",
   "mimetype": "application/julia",
   "name": "julia",
   "version": "0.6.0"
  }
 },
 "nbformat": 4,
 "nbformat_minor": 2
}
