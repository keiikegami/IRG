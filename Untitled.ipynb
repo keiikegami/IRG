{
 "cells": [
  {
   "cell_type": "code",
   "execution_count": 1,
   "metadata": {
    "collapsed": false
   },
   "outputs": [],
   "source": [
    "using QuantEcon\n",
    "using BasisMatrices\n",
    "using Optim\n",
    "\n",
    "struct ProductionInventory\n",
    "    c::Array{Float64}\n",
    "    k::Array{Float64}\n",
    "    pbar::Float64\n",
    "    rho::Float64\n",
    "    sigma::Float64\n",
    "    delta::Float64\n",
    "    spnodes::Array{Float64}\n",
    "end\n",
    "\n",
    "c=[0.5, 0.1];　#生産に関わる費用関数のパラメータ\n",
    "k=[0.1, 0.1];　#貯蔵に関わる費用関数のパラメータ\n",
    "pbar=1.0;　#長期均衡価格\n",
    "rho=0.5;　#価格を決めるパラメータ\n",
    "sigma=0.2;　#価格を決めるパラメータ\n",
    "delta=0.9;　#割引率\n",
    "\n",
    "n = [4; 20]\n",
    "spmin = [0; 0.6]\n",
    "spmax = [2; 1.4]\n",
    "basis =  Basis(SplineParams(n[1]-2, spmin[1], spmax[1]), SplineParams(n[2]-2, spmin[2], spmax[2]))\n",
    "spnodes, (s_vec, p_vec) = nodes(basis)\n",
    "\n",
    "Φ = BasisMatrix(basis, Expanded(), spnodes, 0)\n",
    "initial_c = Φ.vals[1] \\ ones(size(Φ.vals[1])[1]);\n",
    "\n",
    "PI = ProductionInventory(c, k, pbar, rho, sigma, delta, spnodes)\n",
    "\n",
    "nshocks = 3\n",
    "mu = 0\n",
    "epsilon, weight = qnwnorm(nshocks, mu, sigma^2)\n",
    "\n",
    "function update_Bellman(PI::ProductionInventory, C::Vector)\n",
    "    c, k, pbar, rho, sigma, delta, spnodes = PI.c, PI.k, PI.pbar, PI.rho, PI.sigma, PI.delta, PI.spnodes\n",
    "    V_new = Vector{Float64}(size(spnodes)[1])\n",
    "    x_opt = Vector{Array}(size(spnodes)[1])\n",
    "\n",
    "    for i in 1:size(spnodes)[1]\n",
    "        objective(x:: Vector) = -(spnodes[i, :][2] * (spnodes[i, :][1] + x[1] - x[2]) - (c[1] * x[1] + 0.5 * c[2] * x[1]^2) - (k[1] * x[2] + 0.5 * k[2] * x[2]^2) + delta * dot(weight, [funeval(C, basis, [x[2], pbar + rho * (spnodes[i, :][2] - pbar) + epsilon[k]]) for k in 1:length(epsilon)]))\n",
    "        opt = optimize(objective, zeros(2) .+ 0.01, zeros(2) , [10 0; 0 2] * ones(2), Fminbox{}())\n",
    "        V_new[i]= -opt.minimum\n",
    "        x_opt[i] = opt.minimizer\n",
    "    end\n",
    "\n",
    "    C_new = Φ.vals[1] \\ V_new\n",
    "    \n",
    "    return C_new, x_opt\n",
    "end\n",
    "\n",
    "function update_Bellman_true(PI::ProductionInventory, C::Vector, S::Matrix)\n",
    "    c, k, pbar, rho, sigma, delta = PI.c, PI.k, PI.pbar, PI.rho, PI.sigma, PI.delta\n",
    "    V_new_true = Vector{Float64}(size(S, 1))\n",
    "    x_opt_true = Vector(size(S, 1))\n",
    "    \n",
    "    for i=1:size(S, 1)\n",
    "        objective(x:: Vector) = -(S[i, :][2] * (S[i, :][1] + x[1] - x[2]) - (c[1] * x[1] + 0.5 * c[2] * x[1]^2) - (k[1] * x[2] + 0.5 * k[2] * x[2]^2) + delta * dot(weight, [funeval(C, basis, [x[2], pbar + rho * (S[i, :][2] - pbar) + epsilon[k]]) for k in 1:length(epsilon)]))\n",
    "        opt = optimize(objective, zeros(2) .+ 0.01, zeros(2) , [10 0; 0 2] * ones(2), Fminbox{}())\n",
    "        V_new_true[i] = -opt.minimum\n",
    "        x_opt_true[i] = opt.minimizer\n",
    "    end\n",
    "    \n",
    "    return x_opt_true, V_new_true\n",
    "    \n",
    "end\n",
    "\n",
    "C = initial_c\n",
    "tol = sqrt(eps())\n",
    "max_iter = 200\n",
    "C_error = 1.0\n",
    "i = 0;\n",
    "x_opt = Vector{Array}(size(spnodes)[1]);\n",
    "\n"
   ]
  },
  {
   "cell_type": "code",
   "execution_count": 2,
   "metadata": {
    "collapsed": false
   },
   "outputs": [
    {
     "ename": "LoadError",
     "evalue": "\u001b[91mTypeError: Type{...} expression: expected UnionAll, got Type{Optim.Fminbox}\u001b[39m",
     "output_type": "error",
     "traceback": [
      "\u001b[91mTypeError: Type{...} expression: expected UnionAll, got Type{Optim.Fminbox}\u001b[39m",
      "",
      "Stacktrace:",
      " [1] \u001b[1mupdate_Bellman\u001b[22m\u001b[22m\u001b[1m(\u001b[22m\u001b[22m::ProductionInventory, ::Array{Float64,1}\u001b[1m)\u001b[22m\u001b[22m at \u001b[1m./In[1]:44\u001b[22m\u001b[22m",
      " [2] \u001b[1mmacro expansion\u001b[22m\u001b[22m at \u001b[1m./In[2]:2\u001b[22m\u001b[22m [inlined]",
      " [3] \u001b[1manonymous\u001b[22m\u001b[22m at \u001b[1m./<missing>:?\u001b[22m\u001b[22m"
     ]
    }
   ],
   "source": [
    "while C_error > tol && i <= max_iter\n",
    "    C_computed, x_opt_computed = update_Bellman(PI, C)\n",
    "    C_error = maximum(abs, C_computed - C)\n",
    "    copy!(C, C_computed)\n",
    "    copy!(x_opt, x_opt_computed)\n",
    "    i += 1\n",
    "end"
   ]
  },
  {
   "cell_type": "code",
   "execution_count": null,
   "metadata": {
    "collapsed": true
   },
   "outputs": [],
   "source": [
    "gridsize = [30,30]\n",
    "grid1 = linspace(spmin[1],spmax[1],gridsize[1])\n",
    "grid2 = linspace(spmin[2],spmax[2],gridsize[2])\n",
    "grid = gridmake(grid1, grid2)"
   ]
  },
  {
   "cell_type": "code",
   "execution_count": null,
   "metadata": {
    "collapsed": true
   },
   "outputs": [],
   "source": [
    "x_opt_true, V_new_true= update_Bellman_true(PI, C, grid)"
   ]
  },
  {
   "cell_type": "code",
   "execution_count": null,
   "metadata": {
    "collapsed": true
   },
   "outputs": [],
   "source": [
    "resid = V_new_true - funeval(C, basis, grid)"
   ]
  },
  {
   "cell_type": "code",
   "execution_count": null,
   "metadata": {
    "collapsed": true
   },
   "outputs": [],
   "source": []
  }
 ],
 "metadata": {
  "kernelspec": {
   "display_name": "Julia 0.6.0",
   "language": "julia",
   "name": "julia-0.6"
  },
  "language_info": {
   "file_extension": ".jl",
   "mimetype": "application/julia",
   "name": "julia",
   "version": "0.6.0"
  }
 },
 "nbformat": 4,
 "nbformat_minor": 2
}
