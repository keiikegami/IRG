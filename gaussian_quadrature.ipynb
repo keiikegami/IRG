{
 "cells": [
  {
   "cell_type": "code",
   "execution_count": 1,
   "metadata": {
    "collapsed": true
   },
   "outputs": [],
   "source": [
    "using QuantEcon"
   ]
  },
  {
   "cell_type": "code",
   "execution_count": 5,
   "metadata": {
    "collapsed": false
   },
   "outputs": [
    {
     "data": {
      "text/plain": [
       "([0.00675063, 0.266977, 7.38906, 204.505, 8087.85], [0.0112574, 0.222076, 0.533333, 0.222076, 0.0112574])"
      ]
     },
     "execution_count": 5,
     "metadata": {},
     "output_type": "execute_result"
    }
   ],
   "source": [
    "# qnwlognはdocumentにはunifrom distのGQだよって書いてあるけど、ソースをみるとlognormalについてのGQであることがわかるので使ってみる。\n",
    "nodes, weights = qnwlogn(5, 2, 6)"
   ]
  },
  {
   "cell_type": "code",
   "execution_count": 6,
   "metadata": {
    "collapsed": false
   },
   "outputs": [
    {
     "data": {
      "text/plain": [
       "f (generic function with 1 method)"
      ]
     },
     "execution_count": 6,
     "metadata": {},
     "output_type": "execute_result"
    }
   ],
   "source": [
    "function f(x)\n",
    "    return 1/x\n",
    "end"
   ]
  },
  {
   "cell_type": "code",
   "execution_count": 9,
   "metadata": {
    "collapsed": false
   },
   "outputs": [
    {
     "data": {
      "text/plain": [
       "5-element Array{Float64,1}:\n",
       "    0.00675063\n",
       "    0.266977  \n",
       "    7.38906   \n",
       "  204.505     \n",
       " 8087.85      "
      ]
     },
     "execution_count": 9,
     "metadata": {},
     "output_type": "execute_result"
    }
   ],
   "source": [
    "nodes"
   ]
  },
  {
   "cell_type": "code",
   "execution_count": 10,
   "metadata": {
    "collapsed": false
   },
   "outputs": [
    {
     "data": {
      "text/html": [
       "2.572690352990877"
      ],
      "text/plain": [
       "2.572690352990877"
      ]
     },
     "execution_count": 10,
     "metadata": {},
     "output_type": "execute_result"
    }
   ],
   "source": [
    "int = 0\n",
    "for (n,w) in zip(nodes, weights) \n",
    "    int += f(n) * w\n",
    "end\n",
    "int"
   ]
  },
  {
   "cell_type": "code",
   "execution_count": 8,
   "metadata": {
    "collapsed": false
   },
   "outputs": [
    {
     "name": "stdout",
     "output_type": "stream",
     "text": [
      "1 - 6\n",
      "2 - 7\n",
      "3 - 8\n"
     ]
    }
   ],
   "source": [
    "for (i, j) in zip(1:3, 6:9)\n",
    "    print(i, \" - \", j,  \"\\n\")\n",
    "end"
   ]
  },
  {
   "cell_type": "code",
   "execution_count": 11,
   "metadata": {
    "collapsed": false
   },
   "outputs": [
    {
     "data": {
      "text/html": [
       "7.38905609893065"
      ],
      "text/plain": [
       "7.38905609893065"
      ]
     },
     "execution_count": 11,
     "metadata": {},
     "output_type": "execute_result"
    }
   ],
   "source": [
    "nodes[3]"
   ]
  },
  {
   "cell_type": "code",
   "execution_count": 2,
   "metadata": {
    "collapsed": false
   },
   "outputs": [
    {
     "data": {
      "text/plain": [
       "([0.176921 0.176921; 1.0 0.176921; … ; 1.0 5.65223; 5.65223 5.65223], [0.0277778, 0.111111, 0.0277778, 0.111111, 0.444444, 0.111111, 0.0277778, 0.111111, 0.0277778])"
      ]
     },
     "execution_count": 2,
     "metadata": {},
     "output_type": "execute_result"
    }
   ],
   "source": [
    "# 2次元\n",
    "nodes, weights = qnwlogn([3,3], [0,0], diagm([1, 1]))"
   ]
  },
  {
   "cell_type": "code",
   "execution_count": 24,
   "metadata": {
    "collapsed": false
   },
   "outputs": [
    {
     "name": "stdout",
     "output_type": "stream",
     "text": [
      "[0.176921, 0.176921]\n",
      "[1.0, 0.176921]\n",
      "[5.65223, 0.176921]\n",
      "[0.176921, 1.0]\n",
      "[1.0, 1.0]\n",
      "[5.65223, 1.0]\n",
      "[0.176921, 5.65223]\n",
      "[1.0, 5.65223]\n",
      "[5.65223, 5.65223]\n"
     ]
    }
   ],
   "source": [
    "for i in 1:9\n",
    "    println(nodes[i, :])\n",
    "end"
   ]
  },
  {
   "cell_type": "code",
   "execution_count": 3,
   "metadata": {
    "collapsed": false
   },
   "outputs": [
    {
     "data": {
      "text/plain": [
       "9-element Array{Float64,1}:\n",
       " 0.0277778\n",
       " 0.111111 \n",
       " 0.0277778\n",
       " 0.111111 \n",
       " 0.444444 \n",
       " 0.111111 \n",
       " 0.0277778\n",
       " 0.111111 \n",
       " 0.0277778"
      ]
     },
     "execution_count": 3,
     "metadata": {},
     "output_type": "execute_result"
    }
   ],
   "source": [
    "weights"
   ]
  },
  {
   "cell_type": "code",
   "execution_count": null,
   "metadata": {
    "collapsed": true
   },
   "outputs": [],
   "source": []
  }
 ],
 "metadata": {
  "kernelspec": {
   "display_name": "Julia 0.6.0",
   "language": "julia",
   "name": "julia-0.6"
  },
  "language_info": {
   "file_extension": ".jl",
   "mimetype": "application/julia",
   "name": "julia",
   "version": "0.6.0"
  }
 },
 "nbformat": 4,
 "nbformat_minor": 2
}
