{
 "cells": [
  {
   "cell_type": "code",
   "execution_count": 1,
   "metadata": {
    "collapsed": false
   },
   "outputs": [
    {
     "data": {
      "text/plain": [
       "2 dimensional Basis on the hypercube formed by (-2.0, -1.0) × (2.0, 3.0).\n",
       "Basis families are Lin × Lin\n"
      ]
     },
     "execution_count": 1,
     "metadata": {},
     "output_type": "execute_result"
    }
   ],
   "source": [
    "using BasisMatrices\n",
    "\n",
    "# construct 2d basis\n",
    "basis = Basis(LinParams(15, -2, 2), LinParams(10, -1, 3))"
   ]
  },
  {
   "cell_type": "code",
   "execution_count": 2,
   "metadata": {
    "collapsed": false
   },
   "outputs": [
    {
     "data": {
      "text/plain": [
       "1 dimensional Basis on the hypercube formed by (-2.0,) × (2.0,).\n",
       "Basis families are Lin\n"
      ]
     },
     "execution_count": 2,
     "metadata": {},
     "output_type": "execute_result"
    }
   ],
   "source": [
    "b = Basis(LinParams(15, -2, 2))"
   ]
  },
  {
   "cell_type": "code",
   "execution_count": 4,
   "metadata": {
    "collapsed": false
   },
   "outputs": [
    {
     "data": {
      "text/plain": [
       "(-2.0:0.2857142857142857:2.0, StepRangeLen{Float64,Base.TwicePrecision{Float64},Base.TwicePrecision{Float64}}[-2.0:0.2857142857142857:2.0])"
      ]
     },
     "execution_count": 4,
     "metadata": {},
     "output_type": "execute_result"
    }
   ],
   "source": [
    "S, x = nodes(b)"
   ]
  },
  {
   "cell_type": "code",
   "execution_count": null,
   "metadata": {
    "collapsed": true
   },
   "outputs": [],
   "source": []
  },
  {
   "cell_type": "code",
   "execution_count": 8,
   "metadata": {
    "collapsed": false
   },
   "outputs": [
    {
     "ename": "LoadError",
     "evalue": "\u001b[91mUndefVarError: _funeval not defined\u001b[39m",
     "output_type": "error",
     "traceback": [
      "\u001b[91mUndefVarError: _funeval not defined\u001b[39m",
      ""
     ]
    }
   ],
   "source": [
    "funeval(S, b, order = 1)"
   ]
  },
  {
   "cell_type": "code",
   "execution_count": 24,
   "metadata": {
    "collapsed": false
   },
   "outputs": [
    {
     "data": {
      "text/plain": [
       "([-2.0 -1.0; -1.71429 -1.0; … ; 1.71429 3.0; 2.0 3.0], (-2.0:0.2857142857142857:2.0, -1.0:0.4444444444444444:3.0))"
      ]
     },
     "execution_count": 24,
     "metadata": {},
     "output_type": "execute_result"
    }
   ],
   "source": [
    "S, (x, y) = nodes(basis)"
   ]
  },
  {
   "cell_type": "code",
   "execution_count": 26,
   "metadata": {
    "collapsed": false
   },
   "outputs": [
    {
     "data": {
      "text/plain": [
       "func (generic function with 1 method)"
      ]
     },
     "execution_count": 26,
     "metadata": {},
     "output_type": "execute_result"
    }
   ],
   "source": [
    "# define function to approximate\n",
    "func(x, y) = exp(-2*x) * sin(y)"
   ]
  },
  {
   "cell_type": "code",
   "execution_count": 28,
   "metadata": {
    "collapsed": false
   },
   "outputs": [],
   "source": [
    "f = func.(S[:, 1], S[:, 2]);"
   ]
  },
  {
   "cell_type": "code",
   "execution_count": 29,
   "metadata": {
    "collapsed": false
   },
   "outputs": [
    {
     "data": {
      "text/plain": [
       "BasisMatrix{BasisMatrices.Tensor} of order [0 0]"
      ]
     },
     "execution_count": 29,
     "metadata": {},
     "output_type": "execute_result"
    }
   ],
   "source": [
    "# Tensor form\n",
    "bmt = BasisMatrix(basis, Tensor(), [x, y])"
   ]
  },
  {
   "cell_type": "code",
   "execution_count": 30,
   "metadata": {
    "collapsed": true
   },
   "outputs": [],
   "source": [
    "@assert bmt.vals[1] == evalbase(basis.params[1], x, 0)"
   ]
  },
  {
   "cell_type": "code",
   "execution_count": 31,
   "metadata": {
    "collapsed": false
   },
   "outputs": [
    {
     "data": {
      "text/plain": [
       "15×15 SparseMatrixCSC{Float64,Int64} with 30 stored entries:\n",
       "  [1 ,  1]  =  1.0\n",
       "  [1 ,  2]  =  0.0\n",
       "  [2 ,  2]  =  1.0\n",
       "  [2 ,  3]  =  0.0\n",
       "  [3 ,  3]  =  1.0\n",
       "  [3 ,  4]  =  0.0\n",
       "  [4 ,  4]  =  1.0\n",
       "  [4 ,  5]  =  0.0\n",
       "  [5 ,  5]  =  1.0\n",
       "  [5 ,  6]  =  0.0\n",
       "  ⋮\n",
       "  [10, 11]  =  0.0\n",
       "  [11, 11]  =  1.0\n",
       "  [11, 12]  =  0.0\n",
       "  [12, 12]  =  1.0\n",
       "  [12, 13]  =  0.0\n",
       "  [13, 13]  =  1.0\n",
       "  [13, 14]  =  0.0\n",
       "  [14, 14]  =  1.0\n",
       "  [15, 14]  =  0.0\n",
       "  [14, 15]  =  0.0\n",
       "  [15, 15]  =  1.0"
      ]
     },
     "execution_count": 31,
     "metadata": {},
     "output_type": "execute_result"
    }
   ],
   "source": [
    "evalbase(basis.params[1], x, 0)"
   ]
  },
  {
   "cell_type": "code",
   "execution_count": 32,
   "metadata": {
    "collapsed": false
   },
   "outputs": [
    {
     "data": {
      "text/plain": [
       "150-element Array{Float64,1}:\n",
       " -45.9428    \n",
       " -25.9447    \n",
       " -14.6514    \n",
       "  -8.27394   \n",
       "  -4.67244   \n",
       "  -2.63861   \n",
       "  -1.49007   \n",
       "  -0.841471  \n",
       "  -0.475194  \n",
       "  -0.268351  \n",
       "  -0.151542  \n",
       "  -0.0855788 \n",
       "  -0.0483279 \n",
       "   ⋮         \n",
       "   1.38759   \n",
       "   0.783598  \n",
       "   0.442512  \n",
       "   0.249895  \n",
       "   0.14112   \n",
       "   0.079693  \n",
       "   0.0450041 \n",
       "   0.0254146 \n",
       "   0.0143521 \n",
       "   0.00810489\n",
       "   0.00457698\n",
       "   0.0025847 "
      ]
     },
     "execution_count": 32,
     "metadata": {},
     "output_type": "execute_result"
    }
   ],
   "source": [
    "c1 = kron(bmt.vals[2], bmt.vals[1]) \\ f"
   ]
  },
  {
   "cell_type": "code",
   "execution_count": 33,
   "metadata": {
    "collapsed": false
   },
   "outputs": [
    {
     "data": {
      "text/plain": [
       "BasisMatrix{BasisMatrices.Expanded} of order [0 0]"
      ]
     },
     "execution_count": 33,
     "metadata": {},
     "output_type": "execute_result"
    }
   ],
   "source": [
    "bme = BasisMatrix(basis, Expanded(), S)"
   ]
  },
  {
   "cell_type": "code",
   "execution_count": 37,
   "metadata": {
    "collapsed": false
   },
   "outputs": [
    {
     "data": {
      "text/plain": [
       "150-element Array{Float64,1}:\n",
       " -45.9428    \n",
       " -25.9447    \n",
       " -14.6514    \n",
       "  -8.27394   \n",
       "  -4.67244   \n",
       "  -2.63861   \n",
       "  -1.49007   \n",
       "  -0.841471  \n",
       "  -0.475194  \n",
       "  -0.268351  \n",
       "  -0.151542  \n",
       "  -0.0855788 \n",
       "  -0.0483279 \n",
       "   ⋮         \n",
       "   1.38759   \n",
       "   0.783598  \n",
       "   0.442512  \n",
       "   0.249895  \n",
       "   0.14112   \n",
       "   0.079693  \n",
       "   0.0450041 \n",
       "   0.0254146 \n",
       "   0.0143521 \n",
       "   0.00810489\n",
       "   0.00457698\n",
       "   0.0025847 "
      ]
     },
     "execution_count": 37,
     "metadata": {},
     "output_type": "execute_result"
    }
   ],
   "source": [
    "bme.vals[1]\\f"
   ]
  },
  {
   "cell_type": "code",
   "execution_count": 14,
   "metadata": {
    "collapsed": false
   },
   "outputs": [
    {
     "ename": "LoadError",
     "evalue": "\u001b[91mBase.LinAlg.SingularException(0)\u001b[39m",
     "output_type": "error",
     "traceback": [
      "\u001b[91mBase.LinAlg.SingularException(0)\u001b[39m",
      "",
      "Stacktrace:",
      " [1] \u001b[1mumferror\u001b[22m\u001b[22m\u001b[1m(\u001b[22m\u001b[22m::Int64\u001b[1m)\u001b[22m\u001b[22m at \u001b[1m./sparse/umfpack.jl:22\u001b[22m\u001b[22m",
      " [2] \u001b[1msolve!\u001b[22m\u001b[22m\u001b[1m(\u001b[22m\u001b[22m::Array{Float64,1}, ::Base.SparseArrays.UMFPACK.UmfpackLU{Float64,Int64}, ::Array{Float64,1}, ::Int64\u001b[1m)\u001b[22m\u001b[22m at \u001b[1m./sparse/umfpack.jl:259\u001b[22m\u001b[22m",
      " [3] \u001b[1m_Aq_ldiv_B!\u001b[22m\u001b[22m\u001b[1m(\u001b[22m\u001b[22m::Array{Float64,1}, ::Base.SparseArrays.UMFPACK.UmfpackLU{Float64,Int64}, ::Array{Float64,1}, ::Int64\u001b[1m)\u001b[22m\u001b[22m at \u001b[1m./sparse/umfpack.jl:409\u001b[22m\u001b[22m",
      " [4] \u001b[1m\\\u001b[22m\u001b[22m\u001b[1m(\u001b[22m\u001b[22m::SparseMatrixCSC{Float64,Int64}, ::Array{Float64,1}\u001b[1m)\u001b[22m\u001b[22m at \u001b[1m./sparse/linalg.jl:871\u001b[22m\u001b[22m"
     ]
    }
   ],
   "source": [
    "ygrid0 = linspace(-4, 4, 10)\n",
    "agrid0 = linspace(0.0.^0.4, 100.0.^0.4, 25).^(1/0.4)\n",
    "using BasisMatrices\n",
    "# 1st method -- combining Basis objects\n",
    "y_basis = Basis(ChebParams(length(ygrid0), minimum(ygrid0), maximum(ygrid0)))\n",
    "a_basis = Basis(SplineParams(agrid0, 0, 3))\n",
    "basis = Basis(a_basis, y_basis)\n",
    "S, (agrid, ygrid) = nodes(basis);\n",
    "Φ = BasisMatrix(basis, Expanded(), S, 1)\n",
    "\n",
    "# Actual function at interpolation nodes\n",
    "f(a::Vector{Float64}, y::Vector{Float64}) = sqrt.(a) .* exp.(y)\n",
    "y = f(S[:,1], S[:, 2])\n",
    "\n",
    "# Get coefficients\n",
    "c = Φ.vals[1] \\ y;\n",
    "\n",
    "\n",
    "using QuantEcon\n",
    "\n",
    "ygridf = linspace(-4, 4, 100)\n",
    "agridf = linspace(0.0, 100.0, 250)\n",
    "Sf = gridmake(agridf, ygridf)\n",
    "yf = f(Sf[:, 1], Sf[:, 2])"
   ]
  },
  {
   "cell_type": "code",
   "execution_count": 15,
   "metadata": {
    "collapsed": false
   },
   "outputs": [
    {
     "data": {
      "text/plain": [
       "BasisMatrix{BasisMatrices.Expanded} of order [1 1]"
      ]
     },
     "execution_count": 15,
     "metadata": {},
     "output_type": "execute_result"
    }
   ],
   "source": [
    "ygrid0 = linspace(-4, 4, 10)\n",
    "agrid0 = linspace(0.0.^0.4, 100.0.^0.4, 25).^(1/0.4)\n",
    "using BasisMatrices\n",
    "# 1st method -- combining Basis objects\n",
    "y_basis = Basis(ChebParams(length(ygrid0), minimum(ygrid0), maximum(ygrid0)))\n",
    "a_basis = Basis(SplineParams(agrid0, 0, 3))\n",
    "basis = Basis(a_basis, y_basis)\n",
    "S, (agrid, ygrid) = nodes(basis);\n",
    "\n",
    "# ここの一番最後のやつがbasisの微分での矜持をしてくれるやつ。これを使えばいい。\n",
    "Φ = BasisMatrix(basis, Expanded(), S, 1)"
   ]
  },
  {
   "cell_type": "code",
   "execution_count": 6,
   "metadata": {
    "collapsed": false
   },
   "outputs": [
    {
     "data": {
      "text/plain": [
       "1 dimensional Basis on the hypercube formed by (0.0,) × (100.00000000000003,).\n",
       "Basis families are Spline\n"
      ]
     },
     "execution_count": 6,
     "metadata": {},
     "output_type": "execute_result"
    }
   ],
   "source": [
    "agrid0 = linspace(0.0.^0.4, 100.0.^0.4, 25).^(1/0.4)\n",
    "a_basis = Basis(SplineParams(agrid0, 0,3))"
   ]
  },
  {
   "cell_type": "code",
   "execution_count": 7,
   "metadata": {
    "collapsed": true
   },
   "outputs": [],
   "source": [
    "# funevalを試す\n",
    "using BasisMatrices\n",
    "using QuantEcon"
   ]
  },
  {
   "cell_type": "code",
   "execution_count": 11,
   "metadata": {
    "collapsed": false
   },
   "outputs": [],
   "source": [
    "ygrid0 = linspace(-4, 4, 10)\n",
    "agrid0 = linspace(0.0.^0.4, 100.0.^0.4, 25).^(1/0.4)\n",
    "using BasisMatrices\n",
    "# 1st method -- combining Basis objects\n",
    "y_basis = Basis(ChebParams(length(ygrid0), minimum(ygrid0), maximum(ygrid0)))\n",
    "a_basis = Basis(SplineParams(agrid0, 0, 3))\n",
    "basis = Basis(a_basis, y_basis)\n",
    "S, (agrid, ygrid) = nodes(basis);\n",
    "# Actual function at interpolation nodes\n",
    "f(a::Vector{Float64}, y::Vector{Float64}) = sqrt.(a) .* exp.(y)\n",
    "y = f(S[:,1], S[:, 2])\n",
    "\n",
    "Φ = BasisMatrix(basis, Expanded(), S, 0)\n",
    "# Get coefficients\n",
    "c = Φ.vals[1] \\ y;\n",
    "\n",
    "ygridf = linspace(-4, 4, 100)\n",
    "agridf = linspace(0.0, 100.0, 250)\n",
    "Sf = gridmake(agridf, ygridf)\n",
    "yf = f(Sf[:, 1], Sf[:, 2])\n",
    "interp = funeval(c, basis, Sf);"
   ]
  },
  {
   "cell_type": "code",
   "execution_count": 12,
   "metadata": {
    "collapsed": false
   },
   "outputs": [
    {
     "data": {
      "text/plain": [
       "25000×1 Array{Float64,2}:\n",
       "   0.0      \n",
       "   0.0112786\n",
       "   0.0159129\n",
       "   0.0194863\n",
       "   0.0225065\n",
       "   0.0251572\n",
       "   0.0275597\n",
       "   0.0297677\n",
       "   0.0318213\n",
       "   0.0337529\n",
       "   0.035579 \n",
       "   0.0373143\n",
       "   0.0389731\n",
       "   ⋮        \n",
       " 533.774    \n",
       " 534.894    \n",
       " 536.012    \n",
       " 537.128    \n",
       " 538.241    \n",
       " 539.352    \n",
       " 540.461    \n",
       " 541.567    \n",
       " 542.671    \n",
       " 543.773    \n",
       " 544.873    \n",
       " 545.97     "
      ]
     },
     "execution_count": 12,
     "metadata": {},
     "output_type": "execute_result"
    }
   ],
   "source": [
    "interp"
   ]
  },
  {
   "cell_type": "code",
   "execution_count": 13,
   "metadata": {
    "collapsed": false
   },
   "outputs": [
    {
     "data": {
      "text/plain": [
       "270-element Array{Float64,1}:\n",
       "  0.0      \n",
       "  1.61466  \n",
       "  3.39127  \n",
       "  6.06288  \n",
       "  9.16564  \n",
       " 12.6782   \n",
       " 16.4556   \n",
       " 20.4619   \n",
       " 24.6566   \n",
       " 29.0173   \n",
       " 33.5254   \n",
       " 38.1673   \n",
       " 42.9317   \n",
       "  ⋮        \n",
       "  0.0206776\n",
       "  0.0225271\n",
       "  0.0244082\n",
       "  0.0263195\n",
       "  0.0282595\n",
       "  0.0302269\n",
       "  0.0322208\n",
       "  0.03424  \n",
       "  0.0362837\n",
       "  0.0383509\n",
       "  0.0396996\n",
       "  0.0403789"
      ]
     },
     "execution_count": 13,
     "metadata": {},
     "output_type": "execute_result"
    }
   ],
   "source": [
    "c"
   ]
  },
  {
   "cell_type": "code",
   "execution_count": 15,
   "metadata": {
    "collapsed": false
   },
   "outputs": [
    {
     "data": {
      "text/plain": [
       "270-element Array{Float64,1}:\n",
       " 0.914844 \n",
       " 0.332463 \n",
       " 0.506087 \n",
       " 0.294693 \n",
       " 0.402986 \n",
       " 0.987305 \n",
       " 0.330072 \n",
       " 0.350933 \n",
       " 0.825891 \n",
       " 0.587948 \n",
       " 0.873694 \n",
       " 0.116903 \n",
       " 0.466968 \n",
       " ⋮        \n",
       " 0.105865 \n",
       " 0.0671488\n",
       " 0.609707 \n",
       " 0.912027 \n",
       " 0.599044 \n",
       " 0.797799 \n",
       " 0.934659 \n",
       " 0.979508 \n",
       " 0.214998 \n",
       " 0.73828  \n",
       " 0.24359  \n",
       " 0.506345 "
      ]
     },
     "execution_count": 15,
     "metadata": {},
     "output_type": "execute_result"
    }
   ],
   "source": [
    "a = rand(270)"
   ]
  },
  {
   "cell_type": "code",
   "execution_count": 23,
   "metadata": {
    "collapsed": false
   },
   "outputs": [],
   "source": [
    "interp = funeval(a, basis, Sf, [1 0]);"
   ]
  },
  {
   "cell_type": "code",
   "execution_count": 24,
   "metadata": {
    "collapsed": false
   },
   "outputs": [
    {
     "data": {
      "text/plain": [
       "25000×1 Array{Float64,2}:\n",
       " -17.534    \n",
       "  -2.5058   \n",
       "   0.876428 \n",
       "   1.04255  \n",
       "   0.359512 \n",
       "   0.0167243\n",
       "  -0.0673316\n",
       "   0.0443094\n",
       "   0.342768 \n",
       "   0.579056 \n",
       "   0.639914 \n",
       "   0.525344 \n",
       "   0.272269 \n",
       "   ⋮        \n",
       "  -0.0209468\n",
       "  -0.0362983\n",
       "  -0.0526466\n",
       "  -0.0699918\n",
       "  -0.0883337\n",
       "  -0.107673 \n",
       "  -0.128008 \n",
       "  -0.149341 \n",
       "  -0.17167  \n",
       "  -0.194996 \n",
       "  -0.219319 \n",
       "  -0.244639 "
      ]
     },
     "execution_count": 24,
     "metadata": {},
     "output_type": "execute_result"
    }
   ],
   "source": [
    "interp"
   ]
  },
  {
   "cell_type": "code",
   "execution_count": null,
   "metadata": {
    "collapsed": true
   },
   "outputs": [],
   "source": []
  }
 ],
 "metadata": {
  "kernelspec": {
   "display_name": "Julia 0.6.0",
   "language": "julia",
   "name": "julia-0.6"
  },
  "language_info": {
   "file_extension": ".jl",
   "mimetype": "application/julia",
   "name": "julia",
   "version": "0.6.0"
  }
 },
 "nbformat": 4,
 "nbformat_minor": 2
}
