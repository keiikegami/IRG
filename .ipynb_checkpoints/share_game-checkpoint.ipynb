{
 "cells": [
  {
   "cell_type": "markdown",
   "metadata": {},
   "source": [
    "# 9.8.2 Income Redistribution Model\n",
    "\n",
    "Agent p's reward is, $u_p(s_p - x_p) = \\frac{(s_p - x_p)^{1-\\alpha_p}}{1-\\alpha_p}$\n",
    ",where $s_p$ is a predetermined level of wealth and $x_p$ is the amount of investment.\n",
    "\n",
    "Wealth evolution is, $h_p(x_{p, t}, \\epsilon_{p,t+1}) = \\gamma_p x_{p,t} + \\epsilon_{p,t+1} x_{p,t}^{\\beta_p}$\n",
    "\n",
    "Then the realized wealth for agent p at time t+1 is, $s_{p, t+1} = (1 - \\psi) h_p(x_{p, t}, \\epsilon_{p,t+1}) + \\psi h_q(x_{q, t}, \\epsilon_{q,t+1})$\n",
    ",where $\\psi$ is the pre-determined wealth share rate between the players.\n",
    "\n",
    "Consider two players case, each denoted by 1 and 2, who live forever. \n",
    "\n",
    "The time independent state transition function is defined as follows.\n",
    "\n",
    "$g(s_1, s_2, x_1, x_2, \\epsilon_1, \\epsilon_2) = ((1 - \\psi) h_1(x_1, \\epsilon_1)+ \\psi h_2(x_2, \\epsilon_2),\\ (1 - \\psi) h_2(x_2, \\epsilon_2)+ \\psi h_1(x_1, \\epsilon_1))$\n",
    "\n",
    "Using the above functions, and defining $V_p$ as the value functions, we can set the system of Bellman equations as follows.\n",
    "\n",
    "$\\begin{cases} V_1(s_1, s_2) = \\max_{0\\leq x_1\\leq s_1} \\left\\{ u_1(s_1 - x_1) + \\delta E_{\\epsilon}\\left[ V_1(g(s_1, s_2, x_1, x_2, \\epsilon_1, \\epsilon_2)) \\right] \\right\\}\\\\[10pt]\n",
    "V_2(s_1, s_2) = \\max_{0\\leq x_2\\leq s_2} \\left\\{ u_2(s_2 - x_2) + \\delta E_{\\epsilon}\\left[ V_2(g(s_1, s_2, x_1, x_2, \\epsilon_1, \\epsilon_2)) \\right] \\right\\}\n",
    "\\end{cases}$\n",
    "\n",
    "I solve the above systems of functional equations by using collocation method, which means searching the Markov perfect equilibrium in this model."
   ]
  },
  {
   "cell_type": "code",
   "execution_count": 1,
   "metadata": {
    "collapsed": false
   },
   "outputs": [
    {
     "data": {
      "text/plain": [
       "s (generic function with 1 method)"
      ]
     },
     "execution_count": 1,
     "metadata": {},
     "output_type": "execute_result"
    }
   ],
   "source": [
    "# alpha, beta, gamma, psi are model's parameters\n",
    "mutable struct IRG\n",
    "    alpha::Array{Float64,1}\n",
    "    beta::Array{Float64,1}\n",
    "    gamma::Array{Float64,1}\n",
    "    psi::Float64\n",
    "end\n",
    "\n",
    "# functions in this model\n",
    "# vector valued functions\n",
    "function u(model::IRG, s::Array{Float64, 2}, x::Array{Float64, 2}, p::Int64)\n",
    "    return ((s[:, p] - x[:, p]).^(1 - model.alpha[p]))./(1 - model.alpha[p])\n",
    "end\n",
    "\n",
    "function h(model::IRG, x::Array{Float64, 2}, epsilon::Float64, p::Int64)\n",
    "    return model.gamma[p] * x[:, p] + epsilon * (x[:, p].^(model.beta[p]))\n",
    "end\n",
    "\n",
    "function s(model::IRG, x::Array{Float64, 2}, epsilon::Array{Float64})\n",
    "    return [(1 - model.psi)*h(model, x, epsilon[1], 1) + model.psi*h(model, x, epsilon[2], 2), \n",
    "        (1 - model.psi)*h(model, x, epsilon[2], 2) + model.psi*h(model, x, epsilon[1], 1)]\n",
    "end"
   ]
  },
  {
   "cell_type": "markdown",
   "metadata": {},
   "source": [
    "Collocation method"
   ]
  },
  {
   "cell_type": "code",
   "execution_count": 1,
   "metadata": {
    "collapsed": false
   },
   "outputs": [],
   "source": [
    "using BasisMatrices"
   ]
  },
  {
   "cell_type": "code",
   "execution_count": 2,
   "metadata": {
    "collapsed": false
   },
   "outputs": [],
   "source": [
    "n = 15\n",
    "smin = 3\n",
    "smax = 11\n",
    "maxit = 200;"
   ]
  },
  {
   "cell_type": "code",
   "execution_count": 7,
   "metadata": {
    "collapsed": false
   },
   "outputs": [
    {
     "data": {
      "text/plain": [
       "289×289 SparseMatrixCSC{Float64,Int64} with 4624 stored entries:\n",
       "  [1  ,   1]  =  1.0\n",
       "  [2  ,   1]  =  0.296296\n",
       "  [18 ,   1]  =  0.296296\n",
       "  [19 ,   1]  =  0.0877915\n",
       "  [1  ,   2]  =  0.0\n",
       "  [2  ,   2]  =  0.564815\n",
       "  [3  ,   2]  =  0.25\n",
       "  [18 ,   2]  =  0.0\n",
       "  [19 ,   2]  =  0.167353\n",
       "  [20 ,   2]  =  0.0740741\n",
       "  ⋮\n",
       "  [288, 288]  =  0.564815\n",
       "  [289, 288]  =  0.0\n",
       "  [253, 289]  =  9.02422e-88\n",
       "  [254, 289]  =  8.90084e-45\n",
       "  [255, 289]  =  3.00403e-44\n",
       "  [270, 289]  =  8.90084e-45\n",
       "  [271, 289]  =  0.0877915\n",
       "  [272, 289]  =  0.296296\n",
       "  [287, 289]  =  3.00403e-44\n",
       "  [288, 289]  =  0.296296\n",
       "  [289, 289]  =  1.0"
      ]
     },
     "execution_count": 7,
     "metadata": {},
     "output_type": "execute_result"
    }
   ],
   "source": [
    "Φ.vals[1]"
   ]
  },
  {
   "cell_type": "code",
   "execution_count": 3,
   "metadata": {
    "collapsed": false
   },
   "outputs": [
    {
     "data": {
      "text/plain": [
       "2 dimensional Basis on the hypercube formed by (3.0, 3.0) × (11.0, 11.0).\n",
       "Basis families are Spline × Spline\n"
      ]
     },
     "execution_count": 3,
     "metadata": {},
     "output_type": "execute_result"
    }
   ],
   "source": [
    "# make collocation matrix\n",
    "sgrid0 = linspace(smin, smax, n)\n",
    "basis = Basis(SplineParams(sgrid0, 0, 3), SplineParams(sgrid0, 0, 3))\n",
    "S, (x, y) = nodes(basis)\n",
    "Φ = BasisMatrix(basis, Expanded(), S, 0)"
   ]
  },
  {
   "cell_type": "code",
   "execution_count": 15,
   "metadata": {
    "collapsed": false
   },
   "outputs": [
    {
     "data": {
      "text/plain": [
       "s2xx (generic function with 1 method)"
      ]
     },
     "execution_count": 15,
     "metadata": {},
     "output_type": "execute_result"
    }
   ],
   "source": [
    "# make collocation function\n",
    "\n",
    "# derivatives of  payoff, transition functions\n",
    "# utility function\n",
    "function ux(model::IRG, s::Array{Float64, 2}, x::Array{Float64, 2}, p::Int64)\n",
    "    return -(s[:, p] - x[:, p]).^(-model.alpha[p])\n",
    "end\n",
    "\n",
    "function uxx(model::IRG, s::Array{Float64, 2}, x::Array{Float64, 2}, p::Int64)\n",
    "    return -model.alpha[p]*(s[:, p] - x[:, p]).^(-model.alpha[p]-1)\n",
    "end\n",
    "\n",
    "# transition function\n",
    "function sx(model::IRG, x::Array{Float64, 2}, epsilon::Array{Float64},  p::Int64)\n",
    "    return (1 - model.psi)*(model.gamma[p] + epsilon[p]*model.beta[p]*x[:, p].^(model.beta[p] - 1))\n",
    "end\n",
    "\n",
    "function sxx(model::IRG, x::Array{Float64, 2}, epsilon::Array{Float64},  p::Int64)\n",
    "    return (1 - model.psi)*epsilon[p]*model.beta[p]*(model.beta[p] - 1)*x[:, p].^(model.beta[p] - 1)\n",
    "end"
   ]
  },
  {
   "cell_type": "markdown",
   "metadata": {},
   "source": [
    "https://github.com/QuantEcon/CompEcon.jl/blob/master/src/core.jl\n",
    "\n",
    "ここに書いてあるように、QuantEconのfunevalでorderを指定すると、中でbasisMatricesのorderを指定してsplineの微分による評価を得られるよ。"
   ]
  },
  {
   "cell_type": "code",
   "execution_count": null,
   "metadata": {
    "collapsed": true
   },
   "outputs": [],
   "source": [
    "# Gaussian Quadrature\n",
    "# using QuantEcon package for numerical integration w.r.t the expectation\n",
    "# 3 nodes Gaussian quadrature of standard lognormal distribution\n",
    "using QuantEcon\n",
    "num_nodes = 3\n",
    "nodes, weights = qnwlogn([num_nodes, num_nodes], [0,0], diagm([1, 1]))\n",
    "\n",
    "# collocation function\n",
    "function vmax(model::IRG, colnodes::Array{Float64, 2}, action::Array{Float64, 2}, coef::Array{Float64, 2})\n",
    "    xnew = action\n",
    "    for p in 1:2\n",
    "        xl, xu = 0.0, colnodes[:, 1]\n",
    "        for it in 1:maxit\n",
    "            util, util_der1, util_der2 = u(model, colnodes, action, p), ux(model, colnodes, action, p), uxx(model, colnodes, action, p) \n",
    "            Ev, Evx, Evxx = 0.0, 0.0, 0.0\n",
    "            for k in 1:num_nodes^2\n",
    "                eps, weight= nodes[k, :], weights[k]\n",
    "                transition, transition_der1, transition_der2 = s(model, action, eps, p), sx(model, action, eps, p), sxx(model, action, eps, p)\n",
    "                # evaluation based on the basis functions\n",
    "                vn, vnder1, vnder2 = funeval(coef[:, p], basis, transition), funeval(coef[:, p], basis, transition, 1), funeval(coef[:, p], basis, transition, 2)\n",
    "                Ev += weight * vn\n",
    "                Evx += weight* vnder1.* transition_der1\n",
    "                Evxx += vnder1.*transition_der2 + vnder2 .* (transition_der1.^2)\n",
    "            end\n",
    "            v = util + Ev\n",
    "            # improvement by Newton method\n",
    "            delx = -(util_der1 + delta * Evx) ./ (util_der2 + delta*Evxx)\n",
    "            delx = min(max(delx, xl-x), xu-x)\n",
    "            x[:, p] = x[:, p] + delx\n",
    "            if abs(delx) < tol\n",
    "                break\n",
    "            end\n",
    "        end\n",
    "        xnew[:, p] = x[:, p]\n",
    "    end\n",
    "    return v, xnew\n",
    "end\n",
    "\n",
    "# iteration for coefficients\n",
    "c = initial\n",
    "for it in 1:maxit\n",
    "    cold = c\n",
    "    v, x = vmax(model, s, x, c)\n",
    "    c = Φ \\ v\n",
    "    if norm(cold - c) < tol\n",
    "        break\n",
    "    end\n",
    "end"
   ]
  },
  {
   "cell_type": "code",
   "execution_count": null,
   "metadata": {
    "collapsed": true
   },
   "outputs": [],
   "source": []
  }
 ],
 "metadata": {
  "kernelspec": {
   "display_name": "Julia 0.6.0",
   "language": "julia",
   "name": "julia-0.6"
  },
  "language_info": {
   "file_extension": ".jl",
   "mimetype": "application/julia",
   "name": "julia",
   "version": "0.6.0"
  }
 },
 "nbformat": 4,
 "nbformat_minor": 0
}
