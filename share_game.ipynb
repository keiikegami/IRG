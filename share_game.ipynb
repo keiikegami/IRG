{
 "cells": [
  {
   "cell_type": "markdown",
   "metadata": {},
   "source": [
    "# 9.8.2 Income Redistribution Model\n",
    "\n",
    "Agent p's reward is, $u_p(s_p - x_p) = \\frac{(s_p - x_p)^{1-\\alpha_p}}{1-\\alpha_p}$\n",
    "\n",
    "Wealth evolution is, $h_p(x_{p, t}, \\epsilon_{p,t+1}) = \\gamma_p x_{p,t} + \\epsilon_{p,t+1} x_{p,t}^{\\beta_p}$\n",
    "\n",
    "Then realized wealth for agent p at time t+1 is, $s_{p, t+1} = (1 - \\psi) h_p(x_{p, t}, \\epsilon_{p,t+1}) + \\psi h_q(x_{q, t}, \\epsilon_{q,t+1})$\n",
    "\n",
    "where $\\psi$ is the pre-determined wealth share rate.\n",
    "\n",
    "Consider two players case, each denoted by 1 and 2, who live forever. \n",
    "\n",
    "Then the time independent state transition function is \n",
    "\n",
    "$g(s_1, s_2, x_1, x_2, \\epsilon_1, \\epsilon_2) = ((1 - \\psi) h_1(x_1, \\epsilon_1)+ \\psi h_2(x_2, \\epsilon_2),\\ (1 - \\psi) h_2(x_2, \\epsilon_2)+ \\psi h_1(x_1, \\epsilon_1))$\n",
    "\n",
    "And using the above functions, we can set the system of Bellman equation of this problem as follows,\n",
    "\n",
    "$\\begin{cases} V_1(s_1, s_2) = \\max_{0\\leq x_1\\leq s_1} \\left\\{ u_1(s_1 - x_1) + \\delta E_{\\epsilon}\\left[ V_1(g(s_1, s_2, x_1, x_2, \\epsilon_1, \\epsilon_2)) \\right] \\right\\}\\\\[10pt]\n",
    "V_2(s_1, s_2) = \\max_{0\\leq x_2\\leq s_2} \\left\\{ u_2(s_2 - x_2) + \\delta E_{\\epsilon}\\left[ V_2(g(s_1, s_2, x_1, x_2, \\epsilon_1, \\epsilon_2)) \\right] \\right\\}\n",
    "\\end{cases}$\n",
    "\n",
    "I write Julia code of solving the above systems of functional equations by using collocation method."
   ]
  },
  {
   "cell_type": "code",
   "execution_count": 19,
   "metadata": {
    "collapsed": false
   },
   "outputs": [
    {
     "data": {
      "text/plain": [
       "s (generic function with 1 method)"
      ]
     },
     "execution_count": 19,
     "metadata": {},
     "output_type": "execute_result"
    }
   ],
   "source": [
    "# alpha, beta, gamma, psi are model's parameters\n",
    "mutable struct IRG\n",
    "    alpha\n",
    "    beta\n",
    "    gamma\n",
    "    psi\n",
    "end\n",
    "\n",
    "# some functions in this model\n",
    "function u(model::IRG, s::Float64, x::Float64)\n",
    "    return (s - x)^(1 - model.alpha)/(1 - model.alpha)\n",
    "end\n",
    "\n",
    "function h(model::IRG, x::Float64, epsilon::Float64)\n",
    "    return model.gamma * x + epsilon * (x^model.beta)\n",
    "end\n",
    "\n",
    "function s(model::IRG, s_1::Float64, s_2::Float64, x_1::Float64, x_2::Float64, epsilon_1::Float64, epsilon_2::Float64)\n",
    "    return [(1 - model.psi)*h(model, x_1, epsilon_1) + model.psi*h(model, x_2, epsilon_2), \n",
    "        (1 - model.psi)*h(model, x_2, epsilon_2) + model.psi*h(model, x_2, epsilon_2)]\n",
    "end\n",
    "\n",
    "# "
   ]
  },
  {
   "cell_type": "code",
   "execution_count": 22,
   "metadata": {
    "collapsed": false
   },
   "outputs": [
    {
     "data": {
      "text/plain": [
       "IRG(0.2, 0.5, 0.9, 0.05)"
      ]
     },
     "execution_count": 22,
     "metadata": {},
     "output_type": "execute_result"
    }
   ],
   "source": [
    "m = IRG(0.2, 0.5, 0.9, 0.05)"
   ]
  },
  {
   "cell_type": "code",
   "execution_count": 24,
   "metadata": {
    "collapsed": false
   },
   "outputs": [
    {
     "data": {
      "text/plain": [
       "IRG"
      ]
     },
     "execution_count": 24,
     "metadata": {},
     "output_type": "execute_result"
    }
   ],
   "source": [
    "typeof(m)"
   ]
  },
  {
   "cell_type": "code",
   "execution_count": 23,
   "metadata": {
    "collapsed": false
   },
   "outputs": [
    {
     "data": {
      "text/plain": [
       "2-element Array{Float64,1}:\n",
       " 0.378592\n",
       " 1.9215  "
      ]
     },
     "execution_count": 23,
     "metadata": {},
     "output_type": "execute_result"
    }
   ],
   "source": [
    "s(m, 2.9, 4.1, 0.3, 0.77, 0.05, 1.4)"
   ]
  },
  {
   "cell_type": "code",
   "execution_count": 14,
   "metadata": {
    "collapsed": false
   },
   "outputs": [
    {
     "data": {
      "text/plain": [
       "-0.015625"
      ]
     },
     "execution_count": 14,
     "metadata": {},
     "output_type": "execute_result"
    }
   ],
   "source": [
    "u(3.0,1, 5)"
   ]
  },
  {
   "cell_type": "code",
   "execution_count": null,
   "metadata": {
    "collapsed": true
   },
   "outputs": [],
   "source": []
  }
 ],
 "metadata": {
  "kernelspec": {
   "display_name": "Julia 0.6.0",
   "language": "julia",
   "name": "julia-0.6"
  },
  "language_info": {
   "file_extension": ".jl",
   "mimetype": "application/julia",
   "name": "julia",
   "version": "0.6.0"
  }
 },
 "nbformat": 4,
 "nbformat_minor": 0
}
