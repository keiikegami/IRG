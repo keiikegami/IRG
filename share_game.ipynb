{
 "cells": [
  {
   "cell_type": "markdown",
   "metadata": {},
   "source": [
    "# 9.8.2 Income Redistribution Model\n",
    "\n",
    "Agent p's reward is, $u_p(s_p - x_p) = \\frac{(s_p - x_p)^{1-\\alpha_p}}{1-\\alpha_p}$\n",
    ",where $s_p$ is a predetermined level of wealth and $x_p$ is the amount of investment.\n",
    "\n",
    "Wealth evolution is, $h_p(x_{p, t}, \\epsilon_{p,t+1}) = \\gamma_p x_{p,t} + \\epsilon_{p,t+1} x_{p,t}^{\\beta_p}$\n",
    "\n",
    "Then the realized wealth for agent p at time t+1 is, $s_{p, t+1} = (1 - \\psi) h_p(x_{p, t}, \\epsilon_{p,t+1}) + \\psi h_q(x_{q, t}, \\epsilon_{q,t+1})$\n",
    ",where $\\psi$ is the pre-determined wealth share rate between the players.\n",
    "\n",
    "Consider two players case, each denoted by 1 and 2, who live forever. \n",
    "\n",
    "The time independent state transition function is defined as follows.\n",
    "\n",
    "$g(s_1, s_2, x_1, x_2, \\epsilon_1, \\epsilon_2) = ((1 - \\psi) h_1(x_1, \\epsilon_1)+ \\psi h_2(x_2, \\epsilon_2),\\ (1 - \\psi) h_2(x_2, \\epsilon_2)+ \\psi h_1(x_1, \\epsilon_1))$\n",
    "\n",
    "Using the above functions, and defining $V_p$ as the value functions, we can set the system of Bellman equations as follows.\n",
    "\n",
    "$\\begin{cases} V_1(s_1, s_2) = \\max_{0\\leq x_1\\leq s_1} \\left\\{ u_1(s_1 - x_1) + \\delta E_{\\epsilon}\\left[ V_1(g(s_1, s_2, x_1, x_2, \\epsilon_1, \\epsilon_2)) \\right] \\right\\}\\\\[10pt]\n",
    "V_2(s_1, s_2) = \\max_{0\\leq x_2\\leq s_2} \\left\\{ u_2(s_2 - x_2) + \\delta E_{\\epsilon}\\left[ V_2(g(s_1, s_2, x_1, x_2, \\epsilon_1, \\epsilon_2)) \\right] \\right\\}\n",
    "\\end{cases}$\n",
    "\n",
    "I solve the above systems of functional equations by using collocation method, which means searching the Markov perfect equilibrium in this model."
   ]
  },
  {
   "cell_type": "markdown",
   "metadata": {},
   "source": [
    "https://github.com/QuantEcon/CompEcon.jl/blob/master/src/core.jl\n",
    "\n",
    "ここに書いてあるように、QuantEconのfunevalでorderを指定すると、中でbasisMatricesのorderを指定してsplineの微分による評価を得られるよ。"
   ]
  },
  {
   "cell_type": "code",
   "execution_count": 2,
   "metadata": {
    "collapsed": false
   },
   "outputs": [],
   "source": [
    "using BasisMatrices\n",
    "using QuantEcon"
   ]
  },
  {
   "cell_type": "code",
   "execution_count": 3,
   "metadata": {
    "collapsed": false
   },
   "outputs": [
    {
     "data": {
      "text/plain": [
       "BasisMatrix{BasisMatrices.Expanded} of order [0 0]"
      ]
     },
     "execution_count": 3,
     "metadata": {},
     "output_type": "execute_result"
    }
   ],
   "source": [
    "# set environment\n",
    "n = 15\n",
    "smin = 3\n",
    "smax = 11\n",
    "maxit = 200\n",
    "num_nodes = 3;\n",
    "\n",
    "# make collocation matrix\n",
    "sgrid0 = linspace(smin, smax, n)\n",
    "basis = Basis(SplineParams(sgrid0, 0, 3), SplineParams(sgrid0, 0, 3))\n",
    "S, (coordx, coordy) = nodes(basis)\n",
    "Φ = BasisMatrix(basis, Expanded(), S, 0)"
   ]
  },
  {
   "cell_type": "code",
   "execution_count": 4,
   "metadata": {
    "collapsed": false
   },
   "outputs": [
    {
     "data": {
      "text/plain": [
       "vmax (generic function with 1 method)"
      ]
     },
     "execution_count": 4,
     "metadata": {},
     "output_type": "execute_result"
    }
   ],
   "source": [
    "# set model type\n",
    "mutable struct IRG\n",
    "    alpha::Array{Float64,1}\n",
    "    beta::Array{Float64,1}\n",
    "    gamma::Array{Float64,1}\n",
    "    sigma::Array{Float64, 1}\n",
    "    psi::Float64\n",
    "    delta::Float64\n",
    "end\n",
    "\n",
    "# functions in this model\n",
    "# vector valued functions\n",
    "function u(model::IRG, s::Array{Float64, 2}, x::Array{Float64, 2}, p::Int64)\n",
    "    return ((s[:, p] - x[:, p]).^(1 - model.alpha[p]))./(1 - model.alpha[p])\n",
    "end\n",
    "\n",
    "function h(model::IRG, x::Array{Float64, 2}, epsilon::Float64, p::Int64)\n",
    "    return model.gamma[p] * x[:, p] + epsilon * (x[:, p].^(model.beta[p]))\n",
    "end\n",
    "\n",
    "function s(model::IRG, x::Array{Float64, 2}, epsilon::Array{Float64, 1})\n",
    "    box = zeros((size(x)[1], 2))\n",
    "    box[:, 1] = (1 - model.psi)*h(model, x, epsilon[1], 1) + model.psi*h(model, x, epsilon[2], 2)\n",
    "    box[:, 2] = (1 - model.psi)*h(model, x, epsilon[2], 2) + model.psi*h(model, x, epsilon[1], 1)\n",
    "    return box\n",
    "end\n",
    "\n",
    "# derivatives of  payoff, transition functions\n",
    "# utility function\n",
    "function ux(model::IRG, s::Array{Float64, 2}, x::Array{Float64, 2}, p::Int64)\n",
    "    return -(s[:, p] - x[:, p]).^(-model.alpha[p])\n",
    "end\n",
    "\n",
    "function uxx(model::IRG, s::Array{Float64, 2}, x::Array{Float64, 2}, p::Int64)\n",
    "    return -model.alpha[p]*(s[:, p] - x[:, p]).^(-model.alpha[p]-1)\n",
    "end\n",
    "\n",
    "# transition function\n",
    "function sx(model::IRG, x::Array{Float64, 2}, epsilon::Array{Float64, 1},  p::Int64)\n",
    "    return (1 - model.psi)*(model.gamma[p] + epsilon[p]*model.beta[p]*x[:, p].^(model.beta[p] - 1))\n",
    "end\n",
    "\n",
    "function sxx(model::IRG, x::Array{Float64, 2}, epsilon::Array{Float64, 1},  p::Int64)\n",
    "    return (1 - model.psi)*epsilon[p]*model.beta[p]*(model.beta[p] - 1)*x[:, p].^(model.beta[p] - 2)\n",
    "end\n",
    "\n",
    "# Gaussian Quadrature\n",
    "function gq(model::IRG, num_nodes::Int64)\n",
    "    return qnwlogn([num_nodes, num_nodes], [0,0], diagm([model.sigma[1]^2, model.sigma[2]^2]))\n",
    "end\n",
    "\n",
    "# collocation function\n",
    "function vmax(model::IRG, colnodes::Array{Float64, 2}, action::Array{Float64, 2}, coef::Array{Float64, 2}, epss::Array{Float64, 2}, weights::Array{Float64, 1})\n",
    "    xnew = action\n",
    "    v = zeros((size(colnodes)[1], 2))\n",
    "    for p in 1:2\n",
    "        xl, xu = 0.0, colnodes[:, p]\n",
    "        order1 = [0 0]\n",
    "        order1[1, p] = 1\n",
    "        order2 = [0 0]\n",
    "        order2[1, p] = 2\n",
    "        for it in 1:maxit\n",
    "            util, util_der1, util_der2 = u(model, colnodes, action, p), ux(model, colnodes, action, p), uxx(model, colnodes, action, p) \n",
    "            # println(util[1])\n",
    "            # println(util_der1[1])\n",
    "            # println(util_der2[1])\n",
    "            # println(action)\n",
    "            Ev, Evx, Evxx = 0.0, 0.0, 0.0\n",
    "            for k in 1:num_nodes^2\n",
    "                #println(k)\n",
    "                eps, weight= epss[k, :], weights[k]\n",
    "                transition, transition_der1, transition_der2 = s(model, action, eps), sx(model, action, eps, p), sxx(model, action, eps, p)\n",
    "                #println(transition)\n",
    "                #println(transition_der1)\n",
    "                #println(transition_der2)\n",
    "                # coefによって結果が変わらないんだけど、係数はここにしか出てないからこいつがやっぱり怪しいよな\n",
    "                # 係数は別に良いっぽいダメなのはfuneval？\n",
    "                vn = funeval(coef[:, p], basis, transition)\n",
    "                vnder1 =  funeval(coef[:, p], basis, transition, order1)\n",
    "                vnder2 = funeval(coef[:, p], basis, transition, order2)\n",
    "                # vnが係数と一致してるんだけどなにこれ\n",
    "                #println(vn)\n",
    "                #println(vnder1)\n",
    "                #println(vnder2)\n",
    "                Ev += weight * vn\n",
    "                Evx += weight* vnder1.* transition_der1\n",
    "                Evxx += weight * (vnder1.*transition_der2 + vnder2 .* (transition_der1.^2))\n",
    "            end\n",
    "            # println(Ev[1])\n",
    "            # println(Evx[1])\n",
    "            # println(Evxx[1])\n",
    "            v[:, p] = util + Ev\n",
    "            delx = -(util_der1 + model.delta * Evx) ./ (util_der2 + model.delta*Evxx)\n",
    "            # delxがでかすぎる\n",
    "            #println(delx)\n",
    "            # println(xl-action[:, p])\n",
    "            # println(xu-action[:, p])\n",
    "            delx = min.(max.(delx, xl-action[:, p]), xu-action[:, p])\n",
    "            action[:, p] = action[:, p] + delx\n",
    "            if norm(delx) < tol\n",
    "                break\n",
    "            end\n",
    "        end\n",
    "        xnew[:, p] = action[:, p]\n",
    "    end\n",
    "    return v, xnew\n",
    "end"
   ]
  },
  {
   "cell_type": "markdown",
   "metadata": {},
   "source": [
    "solve"
   ]
  },
  {
   "cell_type": "code",
   "execution_count": 13,
   "metadata": {
    "collapsed": false
   },
   "outputs": [],
   "source": [
    "# set initials\n",
    "srand(1234)\n",
    "initial = rand((size(Φ.vals[1])[1]), 2)\n",
    "x = zeros((size(Φ.vals[1])[1]), 2)+1\n",
    "v = zeros((size(Φ.vals[1])[1]), 2)\n",
    "model = IRG([0.2,0.2], [0.5, 0.5], [0.9,0.9], [0.1,0.1], 0.05, 0.9)\n",
    "tol = 0.01\n",
    "e, w = gq(model, 3)\n",
    "\n",
    "# iteration for coefficients\n",
    "c = initial\n",
    "for it in 1:maxit\n",
    "    cold = c\n",
    "    vnew, x = vmax(model, S, x, c, e, w)\n",
    "    c = Φ.vals[1] \\ vnew\n",
    "    v[:, 1] = vnew[:, 1]\n",
    "    v[:, 2] = vnew[:, 2]\n",
    "    if norm(cold - c) < tol\n",
    "        break\n",
    "    end\n",
    "end"
   ]
  },
  {
   "cell_type": "markdown",
   "metadata": {},
   "source": [
    "plot"
   ]
  },
  {
   "cell_type": "code",
   "execution_count": null,
   "metadata": {
    "collapsed": true
   },
   "outputs": [],
   "source": []
  }
 ],
 "metadata": {
  "kernelspec": {
   "display_name": "Julia 0.6.0",
   "language": "julia",
   "name": "julia-0.6"
  },
  "language_info": {
   "file_extension": ".jl",
   "mimetype": "application/julia",
   "name": "julia",
   "version": "0.6.0"
  }
 },
 "nbformat": 4,
 "nbformat_minor": 0
}
